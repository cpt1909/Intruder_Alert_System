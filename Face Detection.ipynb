{
 "cells": [
  {
   "cell_type": "code",
   "execution_count": null,
   "metadata": {},
   "outputs": [],
   "source": [
    "import cv2, requests, time, json, os, winsound\n",
    "from dotenv import load_dotenv\n",
    "\n",
    "load_dotenv()"
   ]
  },
  {
   "cell_type": "code",
   "execution_count": 19,
   "metadata": {},
   "outputs": [],
   "source": [
    "def face_detect(frame):\n",
    "    face_classifier = cv2.CascadeClassifier(cv2.data.haarcascades + \"haarcascade_frontalface_alt2.xml\")\n",
    "    face = face_classifier.detectMultiScale(frame, scaleFactor=1.1, minNeighbors=5, minSize=(40, 40))\n",
    "    for (x, y, w, h) in face:\n",
    "        cv2.rectangle(frame, (x, y), (x + w, y + h), (0, 255, 0), 4)\n",
    "        alert_msg(frame)\n",
    "    return frame"
   ]
  },
  {
   "cell_type": "code",
   "execution_count": 20,
   "metadata": {},
   "outputs": [],
   "source": [
    "def alert_msg(frame):\n",
    "    TELEGRAM_API_TOKEN = os.getenv('TELEGRAM_API_TOKEN')\n",
    "    TELEGRAM_CHAT_ID = os.getenv('TELEGRAM_CHAT_ID')\n",
    "    \n",
    "    image_path = 'detected_face.jpg'\n",
    "    cv2.imwrite(image_path, frame)   \n",
    "    \n",
    "    files = {'photo': open(image_path, 'rb')}\n",
    "    caption = \"Intruder Alert! Face captured!\"\n",
    "    telegram_url = f'https://api.telegram.org/bot{TELEGRAM_API_TOKEN}/sendPhoto'\n",
    "    params = {\n",
    "        'chat_id': TELEGRAM_CHAT_ID,\n",
    "        'caption': caption\n",
    "        }\n",
    "        \n",
    "    try:\n",
    "        response = requests.post(telegram_url, params=params, files=files)\n",
    "        print(f\"Telegram API Response: {json.dumps(response.json(), indent=4)}\")\n",
    "\n",
    "    except requests.RequestException as e:\n",
    "        print(f\"Error : {e}\")"
   ]
  },
  {
   "cell_type": "code",
   "execution_count": null,
   "metadata": {},
   "outputs": [],
   "source": [
    "vid = cv2.VideoCapture(0)\n",
    "while(True): \n",
    "\tret, frame = vid.read()\n",
    "\twinsound.Beep(1000,500)\n",
    "\tcv2.imshow('Web Cam', face_detect(frame))\n",
    "\ttime.sleep(5)\n",
    "\tif cv2.waitKey(1) & 0xFF == ord('q'): \n",
    "\t\tbreak\n",
    "vid.release()\n",
    "cv2.destroyAllWindows()"
   ]
  }
 ],
 "metadata": {
  "kernelspec": {
   "display_name": "Python 3",
   "language": "python",
   "name": "python3"
  },
  "language_info": {
   "codemirror_mode": {
    "name": "ipython",
    "version": 3
   },
   "file_extension": ".py",
   "mimetype": "text/x-python",
   "name": "python",
   "nbconvert_exporter": "python",
   "pygments_lexer": "ipython3",
   "version": "3.12.5"
  }
 },
 "nbformat": 4,
 "nbformat_minor": 2
}
